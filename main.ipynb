{
 "cells": [
  {
   "cell_type": "code",
   "execution_count": 3,
   "metadata": {},
   "outputs": [],
   "source": [
    "import numpy as np\n",
    "from scipy import stats, signal\n",
    "import sys\n",
    "import os\n",
    "\n",
    "from nex import nexfile\n",
    "\n",
    "dir = os.getcwd()\n",
    "\n",
    "# File to analyze\n",
    "file = dir + \"/data/SFN14 2019-02-19 201902SF_OBEX.nex\"\n",
    "\n",
    "reader = nexfile.Reader(useNumpy=True)\n",
    "data = reader.ReadNexFile(file)"
   ]
  },
  {
   "attachments": {},
   "cell_type": "markdown",
   "metadata": {},
   "source": [
    "Initialize variables"
   ]
  },
  {
   "cell_type": "code",
   "execution_count": 4,
   "metadata": {},
   "outputs": [],
   "source": [
    "# indicate the names of the intervals which you want included in the heatmap\n",
    "sf_labels = (\n",
    "    \"Spont\",\n",
    "    \"Well (Empty)\",\n",
    "    \"Well (Peanut)\",\n",
    "    \"Well (Apply)\",\n",
    "    \"Well (M. Chocolate)\",\n",
    "    \"Eat (Apple)\",\n",
    "    \"Eat (M. Chocolate)\",\n",
    "    \"Eat (Apple)\",\n",
    ")\n",
    "\n",
    "sf_events = (\n",
    "    \"Spont\",\n",
    "    \"BLW_bout_Int\",\n",
    "    \"FLW_bout_Int\",\n",
    "    \"FRW_bout_Int\",\n",
    "    \"BRW_bout_Int\",\n",
    "    \"e_FR\",\n",
    "    \"e_BR\",\n",
    "    \"e_FL\",\n",
    ")\n",
    "\n",
    "ts_adjust = 0.005  # time shift to adjust for the time it takes to lick\n",
    "timestamps = {}\n",
    "\n",
    "neurons = ()\n",
    "trial_times = {}\n",
    "\n",
    "timestamps[\"Start\"] = np.asarray([0.0])\n",
    "timestamps[\"Stop\"] = np.asarray([0.0])\n",
    "\n",
    "for event in data[\"Variables\"]:  # gets all the timestamps for each event\n",
    "    # If the event is in the list to look for or the type is a neuron\n",
    "    if event[\"Header\"][\"Type\"] == 0:\n",
    "        # add the timestamps to the dict\n",
    "        timestamps[event[\"Header\"][\"Name\"]] = event[\"Timestamps\"]\n",
    "        neurons = neurons + tuple([event[\"Header\"][\"Name\"]])\n",
    "# Set the end-of-file timestamp to the last timestamp in the file\n",
    "for key, value in timestamps.items():\n",
    "    if max(value) > timestamps[\"Stop\"][0]:\n",
    "        timestamps[\"Stop\"] = np.asarray([max(value)])\n"
   ]
  },
  {
   "cell_type": "code",
   "execution_count": 6,
   "metadata": {},
   "outputs": [
    {
     "data": {
      "text/plain": [
       "'sig12_C1'"
      ]
     },
     "execution_count": 6,
     "metadata": {},
     "output_type": "execute_result"
    }
   ],
   "source": [
    "neurons[0]"
   ]
  },
  {
   "cell_type": "code",
   "execution_count": null,
   "metadata": {},
   "outputs": [],
   "source": []
  }
 ],
 "metadata": {
  "kernelspec": {
   "display_name": "env",
   "language": "python",
   "name": "python3"
  },
  "language_info": {
   "codemirror_mode": {
    "name": "ipython",
    "version": 3
   },
   "file_extension": ".py",
   "mimetype": "text/x-python",
   "name": "python",
   "nbconvert_exporter": "python",
   "pygments_lexer": "ipython3",
   "version": "3.10.1"
  },
  "orig_nbformat": 4
 },
 "nbformat": 4,
 "nbformat_minor": 2
}
